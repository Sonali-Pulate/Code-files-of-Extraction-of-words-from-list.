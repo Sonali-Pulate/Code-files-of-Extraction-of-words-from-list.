{
 "cells": [
  {
   "cell_type": "code",
   "execution_count": 48,
   "id": "b6d6892e",
   "metadata": {},
   "outputs": [],
   "source": [
    "#re.findall'\\d+'-\n",
    "string ='cars 20 bikes 40.cycles 80'"
   ]
  },
  {
   "cell_type": "code",
   "execution_count": 49,
   "id": "57ea4c7d",
   "metadata": {},
   "outputs": [
    {
     "data": {
      "text/plain": [
       "['20', '40', '80']"
      ]
     },
     "execution_count": 49,
     "metadata": {},
     "output_type": "execute_result"
    }
   ],
   "source": [
    "import re\n",
    "pattern='\\d+'\n",
    "re.findall(pattern,string)\n"
   ]
  },
  {
   "cell_type": "code",
   "execution_count": 52,
   "id": "e5962c50",
   "metadata": {},
   "outputs": [],
   "source": [
    "a=\"there are 20 girls and 50 boys\""
   ]
  },
  {
   "cell_type": "code",
   "execution_count": 53,
   "id": "94533bde",
   "metadata": {},
   "outputs": [
    {
     "data": {
      "text/plain": [
       "['20', '50']"
      ]
     },
     "execution_count": 53,
     "metadata": {},
     "output_type": "execute_result"
    }
   ],
   "source": [
    "import re\n",
    "pattern='\\d+'\n",
    "re.findall(pattern,a)"
   ]
  },
  {
   "cell_type": "code",
   "execution_count": 54,
   "id": "7e9f4e98",
   "metadata": {},
   "outputs": [],
   "source": [
    "p= \"there are 500 rupees and meena having 600 rupees \""
   ]
  },
  {
   "cell_type": "code",
   "execution_count": 55,
   "id": "8b120d3e",
   "metadata": {},
   "outputs": [
    {
     "data": {
      "text/plain": [
       "['500', '600']"
      ]
     },
     "execution_count": 55,
     "metadata": {},
     "output_type": "execute_result"
    }
   ],
   "source": [
    "import re\n",
    "pattern='\\d+'\n",
    "re.findall(pattern,p)\n"
   ]
  },
  {
   "cell_type": "code",
   "execution_count": 57,
   "id": "b98a3987",
   "metadata": {},
   "outputs": [
    {
     "data": {
      "text/plain": [
       "['56', '43', '89']"
      ]
     },
     "execution_count": 57,
     "metadata": {},
     "output_type": "execute_result"
    }
   ],
   "source": [
    "import re\n",
    "string='here are 56 laptops,43 mouse and 89 keyboard'\n",
    "pattern='\\d+'\n",
    "re.findall(pattern,string)\n"
   ]
  },
  {
   "cell_type": "code",
   "execution_count": 36,
   "id": "33218731",
   "metadata": {},
   "outputs": [
    {
     "data": {
      "text/plain": [
       "['56', '45']"
      ]
     },
     "execution_count": 36,
     "metadata": {},
     "output_type": "execute_result"
    }
   ],
   "source": [
    "import re \n",
    "string=(\"i have 56 pens and 45 pencils\")\n",
    "pattern='\\d+'\n",
    "re.findall(pattern,string)\n"
   ]
  },
  {
   "cell_type": "code",
   "execution_count": 37,
   "id": "52e8ba4d",
   "metadata": {},
   "outputs": [
    {
     "data": {
      "text/plain": [
       "['4', '0', '0', '4', '5']"
      ]
     },
     "execution_count": 37,
     "metadata": {},
     "output_type": "execute_result"
    }
   ],
   "source": [
    "#re.findall '\\d'\n",
    "import re \n",
    "string=(\"i have 400 rupees and 45 coins\")\n",
    "pattern='\\d'\n",
    "re.findall(pattern,string)\n"
   ]
  },
  {
   "cell_type": "code",
   "execution_count": 38,
   "id": "f407a4d5",
   "metadata": {},
   "outputs": [
    {
     "data": {
      "text/plain": [
       "['4', '0', '4', '8']"
      ]
     },
     "execution_count": 38,
     "metadata": {},
     "output_type": "execute_result"
    }
   ],
   "source": [
    "import re \n",
    "a=(\"tables are 40  and 48 are chairs\")\n",
    "pattern='\\d'\n",
    "re.findall(pattern,a)\n"
   ]
  },
  {
   "cell_type": "code",
   "execution_count": 39,
   "id": "b483ac2e",
   "metadata": {},
   "outputs": [
    {
     "data": {
      "text/plain": [
       "['6', '8', '2', '0', '0']"
      ]
     },
     "execution_count": 39,
     "metadata": {},
     "output_type": "execute_result"
    }
   ],
   "source": [
    "import re \n",
    "s=(\"bottles count are 68 and glass count are 200\")\n",
    "pattern='\\d'\n",
    "re.findall(pattern,s)"
   ]
  },
  {
   "cell_type": "code",
   "execution_count": 110,
   "id": "b825b0d7",
   "metadata": {},
   "outputs": [
    {
     "data": {
      "text/plain": [
       "['    ', ' ', '  ', ' ', ' ', ' ']"
      ]
     },
     "execution_count": 110,
     "metadata": {},
     "output_type": "execute_result"
    }
   ],
   "source": [
    "#re.findall '\\s+'\n",
    "import re \n",
    "a=(\"tables    are 40  and 48 are chairs\")\n",
    "pattern='\\s+'\n",
    "re.findall(pattern,a)\n"
   ]
  },
  {
   "cell_type": "code",
   "execution_count": 42,
   "id": "f541aee3",
   "metadata": {},
   "outputs": [
    {
     "data": {
      "text/plain": [
       "[' ', ' ', ' ', ' ', ' ', ' ', ' ', ' ', ' ', ' ', ' ', ' ']"
      ]
     },
     "execution_count": 42,
     "metadata": {},
     "output_type": "execute_result"
    }
   ],
   "source": [
    "import re \n",
    "string=\"apple are 500 in a pack and mango are 433 in a pack\"\n",
    "pattern='\\s+'\n",
    "re.findall(pattern,string)"
   ]
  },
  {
   "cell_type": "code",
   "execution_count": 43,
   "id": "c4f5a086",
   "metadata": {},
   "outputs": [
    {
     "data": {
      "text/plain": [
       "[' ', ' ', ' ', ' ', ' ', ' ', ' ']"
      ]
     },
     "execution_count": 43,
     "metadata": {},
     "output_type": "execute_result"
    }
   ],
   "source": [
    "# re.findall '\\s'_\n",
    "import re \n",
    "a=(\"tables are 40  and 48 are chairs\")\n",
    "pattern='\\s'\n",
    "re.findall(pattern,a)\n"
   ]
  },
  {
   "cell_type": "code",
   "execution_count": 44,
   "id": "9a76c08a",
   "metadata": {},
   "outputs": [
    {
     "data": {
      "text/plain": [
       "[' ', ' ', ' \\n ', ' ']"
      ]
     },
     "execution_count": 44,
     "metadata": {},
     "output_type": "execute_result"
    }
   ],
   "source": [
    "import re\n",
    "string = 'abc 12\\\n",
    "de 23 \\n f45 6'\n",
    "pattern = '\\s+'\n",
    "re.findall(pattern,string)\n"
   ]
  },
  {
   "cell_type": "code",
   "execution_count": null,
   "id": "cfc3dade",
   "metadata": {},
   "outputs": [],
   "source": [
    "#re.search '\\d+'"
   ]
  },
  {
   "cell_type": "code",
   "execution_count": 111,
   "id": "efe88a7f",
   "metadata": {},
   "outputs": [],
   "source": [
    "a=\"boys are 60 in a class 100 \""
   ]
  },
  {
   "cell_type": "code",
   "execution_count": 112,
   "id": "e7286049",
   "metadata": {},
   "outputs": [
    {
     "data": {
      "text/plain": [
       "<re.Match object; span=(9, 11), match='60'>"
      ]
     },
     "execution_count": 112,
     "metadata": {},
     "output_type": "execute_result"
    }
   ],
   "source": [
    "import re \n",
    "pattern='\\d+'\n",
    "re.search(pattern,a)"
   ]
  },
  {
   "cell_type": "code",
   "execution_count": 61,
   "id": "e551beed",
   "metadata": {},
   "outputs": [
    {
     "data": {
      "text/plain": [
       "<re.Match object; span=(19, 21), match='45'>"
      ]
     },
     "execution_count": 61,
     "metadata": {},
     "output_type": "execute_result"
    }
   ],
   "source": [
    "import re \n",
    "s=\"phones are working 45 days and not working 35 days\"\n",
    "pattern='\\d+'\n",
    "re.search(pattern,s)"
   ]
  },
  {
   "cell_type": "code",
   "execution_count": 81,
   "id": "494a322c",
   "metadata": {},
   "outputs": [
    {
     "name": "stdout",
     "output_type": "stream",
     "text": [
      "Enter a String with numbers: \n",
      "my phone number is 4455667788\n"
     ]
    },
    {
     "data": {
      "text/plain": [
       "['4455667788']"
      ]
     },
     "execution_count": 81,
     "metadata": {},
     "output_type": "execute_result"
    }
   ],
   "source": [
    "import re\n",
    "str=input(\"Enter a String with numbers: \\n\")\n",
    "pattern='\\d+'\n",
    "re.findall('\\d+', str)\n"
   ]
  },
  {
   "cell_type": "code",
   "execution_count": 99,
   "id": "2756893d",
   "metadata": {},
   "outputs": [
    {
     "name": "stdout",
     "output_type": "stream",
     "text": [
      "Enter a String with numbers: \n",
      "my phone number is 3322445566\n"
     ]
    },
    {
     "data": {
      "text/plain": [
       "['3', '3', '2', '2', '4', '4', '5', '5', '6', '6']"
      ]
     },
     "execution_count": 99,
     "metadata": {},
     "output_type": "execute_result"
    }
   ],
   "source": [
    "import re\n",
    "str=input(\"Enter a String with numbers: \\n\")\n",
    "pattern='\\d'\n",
    "re.findall(pattern, str)\n"
   ]
  },
  {
   "cell_type": "code",
   "execution_count": 62,
   "id": "c9df87f6",
   "metadata": {},
   "outputs": [],
   "source": [
    "#re.search '\\d'"
   ]
  },
  {
   "cell_type": "code",
   "execution_count": 121,
   "id": "e38fc1c7",
   "metadata": {},
   "outputs": [
    {
     "data": {
      "text/plain": [
       "['bottles', 'count', 'are', '688']"
      ]
     },
     "execution_count": 121,
     "metadata": {},
     "output_type": "execute_result"
    }
   ],
   "source": [
    "import re \n",
    "s=(\"bottles count are 688\")\n",
    "pattern='\\w+'\n",
    "re.findall(pattern,s)"
   ]
  },
  {
   "cell_type": "code",
   "execution_count": 65,
   "id": "77c7fd39",
   "metadata": {},
   "outputs": [
    {
     "data": {
      "text/plain": [
       "<re.Match object; span=(10, 11), match='4'>"
      ]
     },
     "execution_count": 65,
     "metadata": {},
     "output_type": "execute_result"
    }
   ],
   "source": [
    "import re \n",
    "s=(\"there are 450 jars\")\n",
    "pattern='\\d'\n",
    "re.search(pattern,s)"
   ]
  },
  {
   "cell_type": "code",
   "execution_count": 66,
   "id": "04a04150",
   "metadata": {},
   "outputs": [
    {
     "data": {
      "text/plain": [
       "<re.Match object; span=(5, 6), match=' '>"
      ]
     },
     "execution_count": 66,
     "metadata": {},
     "output_type": "execute_result"
    }
   ],
   "source": [
    "#re.search '\\s+'\n",
    "import re \n",
    "s=(\"there are 450 jars\")\n",
    "pattern='\\s+'\n",
    "re.search(pattern,s)"
   ]
  },
  {
   "cell_type": "code",
   "execution_count": 67,
   "id": "61905959",
   "metadata": {},
   "outputs": [
    {
     "data": {
      "text/plain": [
       "<re.Match object; span=(7, 8), match=' '>"
      ]
     },
     "execution_count": 67,
     "metadata": {},
     "output_type": "execute_result"
    }
   ],
   "source": [
    "import re \n",
    "s=(\"bottles count are 68 and glass count are 200\")\n",
    "pattern='\\s+'\n",
    "re.search(pattern,s)"
   ]
  },
  {
   "cell_type": "code",
   "execution_count": 68,
   "id": "dcb82859",
   "metadata": {},
   "outputs": [
    {
     "data": {
      "text/plain": [
       "<re.Match object; span=(6, 7), match=' '>"
      ]
     },
     "execution_count": 68,
     "metadata": {},
     "output_type": "execute_result"
    }
   ],
   "source": [
    "#re.search '\\s'\n",
    "import re \n",
    "s=\"phones are working 45 days and not working 35 days\"\n",
    "pattern='\\s'\n",
    "re.search(pattern,s)"
   ]
  },
  {
   "cell_type": "code",
   "execution_count": 78,
   "id": "9a9f857a",
   "metadata": {},
   "outputs": [],
   "source": [
    "#re.match\n"
   ]
  },
  {
   "cell_type": "code",
   "execution_count": 126,
   "id": "b15340b4",
   "metadata": {},
   "outputs": [
    {
     "data": {
      "text/plain": [
       "<re.Match object; span=(0, 2), match='69'>"
      ]
     },
     "execution_count": 126,
     "metadata": {},
     "output_type": "execute_result"
    }
   ],
   "source": [
    "import re \n",
    "s= \"69 there are bowles\"\n",
    "pattern='\\d+'\n",
    "re.match(pattern,s)\n",
    "\n"
   ]
  },
  {
   "cell_type": "code",
   "execution_count": 92,
   "id": "1886e4e5",
   "metadata": {},
   "outputs": [
    {
     "data": {
      "text/plain": [
       "<re.Match object; span=(0, 11), match='string stay'>"
      ]
     },
     "execution_count": 92,
     "metadata": {},
     "output_type": "execute_result"
    }
   ],
   "source": [
    "import re\n",
    "listString = [\"string stay\", \"stringers sit\",\"string dope\"]\n",
    "pattern = \"(s\\w+)\\W(s\\w+)\"\n",
    "re.match(pattern, string)"
   ]
  },
  {
   "cell_type": "code",
   "execution_count": 136,
   "id": "48c1bf15",
   "metadata": {},
   "outputs": [
    {
     "name": "stderr",
     "output_type": "stream",
     "text": [
      "<>:3: SyntaxWarning: 'str' object is not callable; perhaps you missed a comma?\n",
      "<>:3: SyntaxWarning: 'str' object is not callable; perhaps you missed a comma?\n",
      "C:\\Users\\user.DESKTOP-OMQ89VA\\AppData\\Local\\Temp\\ipykernel_15240\\23900206.py:3: SyntaxWarning: 'str' object is not callable; perhaps you missed a comma?\n",
      "  pattern = (\"\\w+\")(\"\\s\")(\"\\d+\\s\\w+\")\n",
      "C:\\Users\\user.DESKTOP-OMQ89VA\\AppData\\Local\\Temp\\ipykernel_15240\\23900206.py:3: SyntaxWarning: 'str' object is not callable; perhaps you missed a comma?\n",
      "  pattern = (\"\\w+\")(\"\\s\")(\"\\d+\\s\\w+\")\n",
      "C:\\Users\\user.DESKTOP-OMQ89VA\\AppData\\Local\\Temp\\ipykernel_15240\\23900206.py:3: SyntaxWarning: 'str' object is not callable; perhaps you missed a comma?\n",
      "  pattern = (\"\\w+\")(\"\\s\")(\"\\d+\\s\\w+\")\n",
      "C:\\Users\\user.DESKTOP-OMQ89VA\\AppData\\Local\\Temp\\ipykernel_15240\\23900206.py:3: SyntaxWarning: 'str' object is not callable; perhaps you missed a comma?\n",
      "  pattern = (\"\\w+\")(\"\\s\")(\"\\d+\\s\\w+\")\n"
     ]
    },
    {
     "ename": "TypeError",
     "evalue": "'str' object is not callable",
     "output_type": "error",
     "traceback": [
      "\u001b[1;31m---------------------------------------------------------------------------\u001b[0m",
      "\u001b[1;31mTypeError\u001b[0m                                 Traceback (most recent call last)",
      "Input \u001b[1;32mIn [136]\u001b[0m, in \u001b[0;36m<cell line: 3>\u001b[1;34m()\u001b[0m\n\u001b[0;32m      1\u001b[0m \u001b[38;5;28;01mimport\u001b[39;00m \u001b[38;5;21;01mre\u001b[39;00m\n\u001b[0;32m      2\u001b[0m listString \u001b[38;5;241m=\u001b[39m [\u001b[38;5;124m\"\u001b[39m\u001b[38;5;124mstring 64 stay\u001b[39m\u001b[38;5;124m\"\u001b[39m, \u001b[38;5;124m\"\u001b[39m\u001b[38;5;124mstringers sit\u001b[39m\u001b[38;5;124m\"\u001b[39m,\u001b[38;5;124m\"\u001b[39m\u001b[38;5;124mstring dope\u001b[39m\u001b[38;5;124m\"\u001b[39m]\n\u001b[1;32m----> 3\u001b[0m pattern \u001b[38;5;241m=\u001b[39m \u001b[43m(\u001b[49m\u001b[38;5;124;43m\"\u001b[39;49m\u001b[38;5;124;43m\\\u001b[39;49m\u001b[38;5;124;43mw+\u001b[39;49m\u001b[38;5;124;43m\"\u001b[39;49m\u001b[43m)\u001b[49m\u001b[43m(\u001b[49m\u001b[38;5;124;43m\"\u001b[39;49m\u001b[38;5;124;43m\\\u001b[39;49m\u001b[38;5;124;43ms\u001b[39;49m\u001b[38;5;124;43m\"\u001b[39;49m\u001b[43m)\u001b[49m(\u001b[38;5;124m\"\u001b[39m\u001b[38;5;124m\\\u001b[39m\u001b[38;5;124md+\u001b[39m\u001b[38;5;124m\\\u001b[39m\u001b[38;5;124ms\u001b[39m\u001b[38;5;124m\\\u001b[39m\u001b[38;5;124mw+\u001b[39m\u001b[38;5;124m\"\u001b[39m)\n\u001b[0;32m      4\u001b[0m re\u001b[38;5;241m.\u001b[39mmatch(pattern, string)\n",
      "\u001b[1;31mTypeError\u001b[0m: 'str' object is not callable"
     ]
    }
   ],
   "source": [
    "import re\n",
    "listString = [\"string 64 stay\", \"stringers sit\",\"string dope\"]\n",
    "pattern = (\"\\w+\")(\"\\s\")(\"\\d+\\s\\w+\")\n",
    "re.match(pattern, string)"
   ]
  },
  {
   "cell_type": "code",
   "execution_count": null,
   "id": "1b10ee0e",
   "metadata": {},
   "outputs": [],
   "source": []
  },
  {
   "cell_type": "code",
   "execution_count": null,
   "id": "7c765317",
   "metadata": {},
   "outputs": [],
   "source": []
  },
  {
   "cell_type": "code",
   "execution_count": null,
   "id": "352c473c",
   "metadata": {},
   "outputs": [],
   "source": []
  },
  {
   "cell_type": "code",
   "execution_count": null,
   "id": "982ef0da",
   "metadata": {},
   "outputs": [],
   "source": []
  },
  {
   "cell_type": "code",
   "execution_count": null,
   "id": "1590a1fa",
   "metadata": {},
   "outputs": [],
   "source": []
  },
  {
   "cell_type": "code",
   "execution_count": null,
   "id": "6be70fe7",
   "metadata": {},
   "outputs": [],
   "source": []
  },
  {
   "cell_type": "code",
   "execution_count": null,
   "id": "b5192a29",
   "metadata": {},
   "outputs": [],
   "source": []
  },
  {
   "cell_type": "code",
   "execution_count": null,
   "id": "b3a5e913",
   "metadata": {},
   "outputs": [],
   "source": []
  }
 ],
 "metadata": {
  "kernelspec": {
   "display_name": "Python 3 (ipykernel)",
   "language": "python",
   "name": "python3"
  },
  "language_info": {
   "codemirror_mode": {
    "name": "ipython",
    "version": 3
   },
   "file_extension": ".py",
   "mimetype": "text/x-python",
   "name": "python",
   "nbconvert_exporter": "python",
   "pygments_lexer": "ipython3",
   "version": "3.9.12"
  }
 },
 "nbformat": 4,
 "nbformat_minor": 5
}
