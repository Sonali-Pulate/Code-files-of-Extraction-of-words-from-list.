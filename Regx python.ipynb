{
 "cells": [
  {
   "cell_type": "code",
   "execution_count": 2,
   "id": "e13a8604",
   "metadata": {},
   "outputs": [
    {
     "data": {
      "text/plain": [
       "'^[0-9]{1,2}\\\\/[0-9]{1,2}\\\\/[0-9]{4}$'"
      ]
     },
     "execution_count": 2,
     "metadata": {},
     "output_type": "execute_result"
    }
   ],
   "source": [
    "#Regx for date format \n",
    "\"^[0-9]{1,2}\\\\/[0-9]{1,2}\\\\/[0-9]{4}$\""
   ]
  },
  {
   "cell_type": "code",
   "execution_count": 3,
   "id": "63768798",
   "metadata": {},
   "outputs": [
    {
     "data": {
      "text/plain": [
       "<re.Match object; span=(0, 10), match='12/12/2022'>"
      ]
     },
     "execution_count": 3,
     "metadata": {},
     "output_type": "execute_result"
    }
   ],
   "source": [
    "import re\n",
    "\n",
    "# Validate date\n",
    "date_pattern = \"^[0-9]{1,2}\\\\/[0-9]{1,2}\\\\/[0-9]{4}$\"\n",
    "re.match(date_pattern, '12/12/2022') \n"
   ]
  },
  {
   "cell_type": "code",
   "execution_count": 4,
   "id": "39e4852a",
   "metadata": {},
   "outputs": [
    {
     "data": {
      "text/plain": [
       "['1/18/2021', '1/29/2021']"
      ]
     },
     "execution_count": 4,
     "metadata": {},
     "output_type": "execute_result"
    }
   ],
   "source": [
    "# Extract date from a string\n",
    "date_extract_pattern = \"[0-9]{1,2}\\\\/[0-9]{1,2}\\\\/[0-9]{4}\"\n",
    "re.findall(date_extract_pattern, 'I\\'m on vacation from 1/18/2021 till 1/29/2021')"
   ]
  },
  {
   "cell_type": "code",
   "execution_count": 5,
   "id": "44a931d4",
   "metadata": {},
   "outputs": [
    {
     "data": {
      "text/plain": [
       "<re.Match object; span=(0, 32), match='2021-11-04T22:32:47.142354-10:00'>"
      ]
     },
     "execution_count": 5,
     "metadata": {},
     "output_type": "execute_result"
    }
   ],
   "source": [
    "import re\n",
    "date_pattern = \"^(?:\\\\d{4})-(?:\\\\d{2})-(?:\\\\d{2})T(?:\\\\d{2}):(?:\\\\d{2}):(?:\\\\d{2}(?:\\\\.\\\\d*)?)(?:(?:-(?:\\\\d{2}):(?:\\\\d{2})|Z)?)$\"\n",
    "re.match(date_pattern, '2021-11-04T22:32:47.142354-10:00') "
   ]
  },
  {
   "cell_type": "code",
   "execution_count": 6,
   "id": "1c3f2603",
   "metadata": {},
   "outputs": [
    {
     "data": {
      "text/plain": [
       "['2017-05-23T15:02:27Z', '2018-05-23T15:02:28Z']"
      ]
     },
     "execution_count": 6,
     "metadata": {},
     "output_type": "execute_result"
    }
   ],
   "source": [
    "date_extract_pattern = \"(?:\\\\d{4})-(?:\\\\d{2})-(?:\\\\d{2})T(?:\\\\d{2}):(?:\\\\d{2}):(?:\\\\d{2}(?:\\\\.\\\\d*)?)(?:(?:-(?:\\\\d{2}):(?:\\\\d{2})|Z)?)\"\n",
    "re.findall(date_extract_pattern, '2017-05-23T15:02:27Z | WARN | Record not found\\n2018-05-23T15:02:28Z | WARN | Project with the id ’53’ was not found')"
   ]
  },
  {
   "cell_type": "code",
   "execution_count": 8,
   "id": "85aba657",
   "metadata": {},
   "outputs": [
    {
     "name": "stdout",
     "output_type": "stream",
     "text": [
      "2022-07-28\n"
     ]
    }
   ],
   "source": [
    "import datetime\n",
    "from datetime import date\n",
    "import re\n",
    "s = \"Naman's birthday is on 2022-07-28\"\n",
    "match = re.search(r'\\d{4}-\\d{2}-\\d{2}', s)\n",
    "date = datetime.datetime.strptime(match.group(), '%Y-%m-%d').date()\n",
    "print (date)"
   ]
  },
  {
   "cell_type": "code",
   "execution_count": 9,
   "id": "571cf726",
   "metadata": {},
   "outputs": [],
   "source": [
    "import re\n",
    " "
   ]
  },
  {
   "cell_type": "code",
   "execution_count": 10,
   "id": "8fa75878",
   "metadata": {},
   "outputs": [],
   "source": [
    "string = \"\"\"Hello my Number is 123456789 and\n",
    "            my friend's number is 987654321\"\"\""
   ]
  },
  {
   "cell_type": "code",
   "execution_count": 11,
   "id": "4bd2e24b",
   "metadata": {},
   "outputs": [],
   "source": [
    "regex = '\\d+'"
   ]
  },
  {
   "cell_type": "code",
   "execution_count": 12,
   "id": "ba17f953",
   "metadata": {},
   "outputs": [
    {
     "name": "stdout",
     "output_type": "stream",
     "text": [
      "['123456789', '987654321']\n"
     ]
    }
   ],
   "source": [
    "match = re.findall(regex, string)\n",
    "print(match)"
   ]
  },
  {
   "cell_type": "code",
   "execution_count": 13,
   "id": "47fdade1",
   "metadata": {},
   "outputs": [
    {
     "data": {
      "text/plain": [
       "'^\\\\d+$'"
      ]
     },
     "execution_count": 13,
     "metadata": {},
     "output_type": "execute_result"
    }
   ],
   "source": [
    "# Regx for search the numbers \n",
    "\"^\\\\d+$\""
   ]
  },
  {
   "cell_type": "code",
   "execution_count": 14,
   "id": "bfdb6fb4",
   "metadata": {},
   "outputs": [
    {
     "data": {
      "text/plain": [
       "['203']"
      ]
     },
     "execution_count": 14,
     "metadata": {},
     "output_type": "execute_result"
    }
   ],
   "source": [
    "import re\n",
    "\n",
    "# Validate number\n",
    "number_pattern = \"^\\\\d+$\"\n",
    "re.match(number_pattern, '42') \n",
    "re.match(number_pattern, 'notanumber') \n",
    "\n",
    "# Extract number from a string\n",
    "number_extract_pattern = \"\\\\d+\"\n",
    "re.findall(number_extract_pattern, 'Your message was viewed 203 times.') "
   ]
  },
  {
   "cell_type": "code",
   "execution_count": 15,
   "id": "8a3f761c",
   "metadata": {},
   "outputs": [
    {
     "data": {
      "text/plain": [
       "'^(?:-(?:[1-9](?:\\\\d{0,2}(?:,\\\\d{3})+|\\\\d*))|(?:0|(?:[1-9](?:\\\\d{0,2}(?:,\\\\d{3})+|\\\\d*))))(?:.\\\\d+|)$'"
      ]
     },
     "execution_count": 15,
     "metadata": {},
     "output_type": "execute_result"
    }
   ],
   "source": [
    "\"^(?:-(?:[1-9](?:\\\\d{0,2}(?:,\\\\d{3})+|\\\\d*))|(?:0|(?:[1-9](?:\\\\d{0,2}(?:,\\\\d{3})+|\\\\d*))))(?:.\\\\d+|)$\""
   ]
  },
  {
   "cell_type": "code",
   "execution_count": 16,
   "id": "c280be22",
   "metadata": {},
   "outputs": [
    {
     "data": {
      "text/plain": [
       "['3.14']"
      ]
     },
     "execution_count": 16,
     "metadata": {},
     "output_type": "execute_result"
    }
   ],
   "source": [
    "number_pattern = \"^(?:-(?:[1-9](?:\\\\d{0,2}(?:,\\\\d{3})+|\\\\d*))|(?:0|(?:[1-9](?:\\\\d{0,2}(?:,\\\\d{3})+|\\\\d*))))(?:.\\\\d+|)$\"\n",
    "re.match(number_pattern, '121220.22') \n",
    "re.match(number_pattern, 'Hey12122022x') \n",
    "\n",
    "\n",
    "number_extract_pattern = \"(?:-(?:[1-9](?:\\\\d{0,2}(?:,\\\\d{3})+|\\\\d*))|(?:0|(?:[1-9](?:\\\\d{0,2}(?:,\\\\d{3})+|\\\\d*))))(?:.\\\\d+|)\"\n",
    "re.findall(number_extract_pattern, 'Pi equals to 3.14') "
   ]
  },
  {
   "cell_type": "code",
   "execution_count": 17,
   "id": "321032d7",
   "metadata": {},
   "outputs": [
    {
     "data": {
      "text/plain": [
       "False"
      ]
     },
     "execution_count": 17,
     "metadata": {},
     "output_type": "execute_result"
    }
   ],
   "source": [
    "\"123\".isnumeric() \n",
    "\"xx\".isnumeric() "
   ]
  },
  {
   "cell_type": "code",
   "execution_count": 18,
   "id": "5535daaf",
   "metadata": {},
   "outputs": [
    {
     "name": "stdout",
     "output_type": "stream",
     "text": [
      "Enter the String: \n",
      "I have 45 apples and 22 mango.\n",
      "\n",
      "Numbers List in String:\n",
      "['4', '5', '2', '2']\n"
     ]
    }
   ],
   "source": [
    "print(\"Enter the String: \")\n",
    "text = input()\n",
    "textLen = len(text)\n",
    "nums = []\n",
    "for i in range(textLen):\n",
    "  if text[i]>='0' and text[i]<='9':\n",
    "    nums.append(text[i])\n",
    "print(\"\\nNumbers List in String:\")\n",
    "print(nums)"
   ]
  },
  {
   "cell_type": "code",
   "execution_count": 19,
   "id": "e103edc5",
   "metadata": {},
   "outputs": [
    {
     "name": "stdout",
     "output_type": "stream",
     "text": [
      "Enter the String: santabhatta 22@gmail.com\n",
      "\n",
      "Here are the list of Numbers in String: \n",
      "2 2 "
     ]
    }
   ],
   "source": [
    "print(end=\"Enter the String: \")\n",
    "text = input()\n",
    "textLen = len(text)\n",
    "nums = []\n",
    "chk = 0\n",
    "for i in range(textLen):\n",
    "  if text[i].isdigit():\n",
    "    nums.append(text[i])\n",
    "    chk = 1\n",
    "if chk==1:\n",
    "  print(\"\\nHere are the list of Numbers in String: \")\n",
    "  numsLen = len(nums)\n",
    "  for i in range(numsLen):\n",
    "    print(end=nums[i] + \" \")\n",
    "else:\n",
    "  print(\"\\nNumber is not available in the list!\")"
   ]
  },
  {
   "cell_type": "code",
   "execution_count": 20,
   "id": "e66e9994",
   "metadata": {},
   "outputs": [
    {
     "name": "stdout",
     "output_type": "stream",
     "text": [
      "['9', '162', '666688888']\n"
     ]
    }
   ],
   "source": [
    "import re\n",
    "\n",
    "str = 'We live at 9-162 Malibeu. My phone number is 666688888.'\n",
    "#search using regex\n",
    "x = re.findall('[0-9]+', str)\n",
    "print(x)"
   ]
  },
  {
   "cell_type": "code",
   "execution_count": 21,
   "id": "17ca48b2",
   "metadata": {},
   "outputs": [
    {
     "name": "stdout",
     "output_type": "stream",
     "text": [
      "['2', '248', '88796451', '52']\n"
     ]
    }
   ],
   "source": [
    "import re\n",
    "\n",
    "str = 'We four guys, live at 2nd street of Malibeu. I had a cash of $248 in my pocket. I got a ticket with serial number 88796451-52.'\n",
    "#search using regex\n",
    "x = re.findall('[0-9]+', str)\n",
    "print(x)"
   ]
  },
  {
   "cell_type": "code",
   "execution_count": 22,
   "id": "202fdbac",
   "metadata": {},
   "outputs": [],
   "source": [
    "#Regular expression to find special charecter \n",
    "\n",
    "import re\n",
    "\n",
    "txt = \"The rain in Spain\"\n",
    "x = re.search(\"^The.*Spain$\", txt)"
   ]
  },
  {
   "cell_type": "code",
   "execution_count": 23,
   "id": "19324964",
   "metadata": {},
   "outputs": [
    {
     "name": "stdout",
     "output_type": "stream",
     "text": [
      "The first white-space character is located in position: 3\n"
     ]
    }
   ],
   "source": [
    "import re\n",
    "\n",
    "txt = \"The rain in Spain\"\n",
    "x = re.search(\"\\s\", txt)\n",
    "\n",
    "print(\"The first white-space character is located in position:\", x.start())\n"
   ]
  },
  {
   "cell_type": "code",
   "execution_count": 24,
   "id": "f1c54b98",
   "metadata": {},
   "outputs": [
    {
     "data": {
      "text/plain": [
       "re.compile(r'ab*', re.UNICODE)"
      ]
     },
     "execution_count": 24,
     "metadata": {},
     "output_type": "execute_result"
    }
   ],
   "source": [
    "import re\n",
    "p = re.compile('ab*')\n",
    "p\n",
    "re.compile('ab*')"
   ]
  },
  {
   "cell_type": "code",
   "execution_count": 25,
   "id": "1b7f1b6a",
   "metadata": {},
   "outputs": [],
   "source": [
    "p = re.compile('ab*', re.IGNORECASE)"
   ]
  },
  {
   "cell_type": "code",
   "execution_count": 26,
   "id": "199ab09e",
   "metadata": {},
   "outputs": [
    {
     "name": "stdout",
     "output_type": "stream",
     "text": [
      "Search successful.\n"
     ]
    }
   ],
   "source": [
    "import re\n",
    "\n",
    "pattern = '^a...s$'\n",
    "test_string = 'abyss'\n",
    "result = re.match(pattern, test_string)\n",
    "\n",
    "if result:\n",
    "  print(\"Search successful.\")\n",
    "else:\n",
    "  print(\"Search unsuccessful.\")\t"
   ]
  },
  {
   "cell_type": "code",
   "execution_count": 27,
   "id": "eebee2a8",
   "metadata": {},
   "outputs": [
    {
     "name": "stdout",
     "output_type": "stream",
     "text": [
      "['12', '89', '34']\n"
     ]
    }
   ],
   "source": [
    "import re\n",
    "\n",
    "string = 'hello 12 hi 89. Howdy 34'\n",
    "pattern = '\\d+'\n",
    "\n",
    "result = re.findall(pattern, string) \n",
    "print(result)"
   ]
  },
  {
   "cell_type": "code",
   "execution_count": 28,
   "id": "aac00bc9",
   "metadata": {},
   "outputs": [
    {
     "name": "stdout",
     "output_type": "stream",
     "text": [
      "['Twelve:', ' Eighty nine:', '.']\n"
     ]
    }
   ],
   "source": [
    "import re\n",
    "\n",
    "string = 'Twelve:12 Eighty nine:89.'\n",
    "pattern = '\\d+'\n",
    "\n",
    "result = re.split(pattern, string) \n",
    "print(result)"
   ]
  },
  {
   "cell_type": "code",
   "execution_count": 29,
   "id": "5f416458",
   "metadata": {},
   "outputs": [
    {
     "name": "stdout",
     "output_type": "stream",
     "text": [
      "abc12de23f456\n"
     ]
    }
   ],
   "source": [
    "\n",
    "# Program to remove all whitespaces\n",
    "import re\n",
    "\n",
    "# multiline string\n",
    "string = 'abc 12\\\n",
    "de 23 \\n f45 6'\n",
    "\n",
    "# matches all whitespace characters\n",
    "pattern = '\\s+'\n",
    "\n",
    "# empty string\n",
    "replace = ''\n",
    "\n",
    "new_string = re.sub(pattern, replace, string) \n",
    "print(new_string)"
   ]
  },
  {
   "cell_type": "code",
   "execution_count": 32,
   "id": "2edf6ebf",
   "metadata": {},
   "outputs": [
    {
     "name": "stdout",
     "output_type": "stream",
     "text": [
      "abc12de 23 \n",
      " f45 6\n"
     ]
    }
   ],
   "source": [
    "import re\n",
    "\n",
    "# multiline string\n",
    "string = 'abc 12\\\n",
    "de 23 \\n f45 6'\n",
    "\n",
    "# matches all whitespace characters\n",
    "pattern = '\\s+'\n",
    "replace = ''\n",
    "\n",
    "new_string = re.sub(r'\\s+', replace, string, 1) \n",
    "print(new_string)\n"
   ]
  },
  {
   "cell_type": "code",
   "execution_count": 33,
   "id": "44716fed",
   "metadata": {},
   "outputs": [
    {
     "name": "stdout",
     "output_type": "stream",
     "text": [
      "('abc12de23f456', 4)\n"
     ]
    }
   ],
   "source": [
    "# Program to remove all whitespaces\n",
    "import re\n",
    "\n",
    "# multiline string\n",
    "string = 'abc 12\\\n",
    "de 23 \\n f45 6'\n",
    "\n",
    "# matches all whitespace characters\n",
    "pattern = '\\s+'\n",
    "\n",
    "# empty string\n",
    "replace = ''\n",
    "\n",
    "new_string = re.subn(pattern, replace, string) \n",
    "print(new_string)"
   ]
  },
  {
   "cell_type": "code",
   "execution_count": 34,
   "id": "5687134d",
   "metadata": {},
   "outputs": [
    {
     "name": "stdout",
     "output_type": "stream",
     "text": [
      "pattern found inside the string\n"
     ]
    }
   ],
   "source": [
    "import re\n",
    "\n",
    "string = \"Python is fun\"\n",
    "\n",
    "# check if 'Python' is at the beginning\n",
    "match = re.search('\\APython', string)\n",
    "\n",
    "if match:\n",
    "  print(\"pattern found inside the string\")\n",
    "else:\n",
    "  print(\"pattern not found\")  "
   ]
  },
  {
   "cell_type": "code",
   "execution_count": 35,
   "id": "71c545cd",
   "metadata": {},
   "outputs": [
    {
     "name": "stdout",
     "output_type": "stream",
     "text": [
      "801 35\n"
     ]
    }
   ],
   "source": [
    "import re\n",
    "\n",
    "string = '39801 356, 2102 1111'\n",
    "\n",
    "# Three digit number followed by space followed by two digit number\n",
    "pattern = '(\\d{3}) (\\d{2})'\n",
    "\n",
    "# match variable contains a Match object.\n",
    "match = re.search(pattern, string) \n",
    "\n",
    "if match:\n",
    "  print(match.group())\n",
    "else:\n",
    "  print(\"pattern not found\")"
   ]
  },
  {
   "cell_type": "code",
   "execution_count": 36,
   "id": "3a702798",
   "metadata": {},
   "outputs": [
    {
     "name": "stdout",
     "output_type": "stream",
     "text": [
      "['\\n', '\\r']\n"
     ]
    }
   ],
   "source": [
    "import re\n",
    "\n",
    "string = '\\n and \\r are escape sequences.'\n",
    "\n",
    "result = re.findall(r'[\\n\\r]', string) \n",
    "print(result)\n"
   ]
  },
  {
   "cell_type": "code",
   "execution_count": 37,
   "id": "cb2502ff",
   "metadata": {},
   "outputs": [
    {
     "name": "stdout",
     "output_type": "stream",
     "text": [
      "Search successful.\n"
     ]
    }
   ],
   "source": [
    "import re\n",
    "\n",
    "pattern = '^a...s$'\n",
    "test_string = 'abyss'\n",
    "result = re.match(pattern, test_string)\n",
    "\n",
    "if result:\n",
    "  print(\"Search successful.\")\n",
    "else:\n",
    "  print(\"Search unsuccessful.\")\t"
   ]
  },
  {
   "cell_type": "code",
   "execution_count": 38,
   "id": "34701450",
   "metadata": {},
   "outputs": [
    {
     "name": "stdout",
     "output_type": "stream",
     "text": [
      "<re.Match object; span=(0, 2), match='We'>\n",
      "None\n"
     ]
    }
   ],
   "source": [
    "from re import match\n",
    "\n",
    "mystr = \"Welcome to TutorialsTeacher\"\n",
    "obj1 = match(\"We\", mystr)\n",
    "print(obj1)\n",
    "obj2 = match(\"teacher\", mystr)\n",
    "print(obj2) "
   ]
  },
  {
   "cell_type": "code",
   "execution_count": 39,
   "id": "4389b3fb",
   "metadata": {},
   "outputs": [
    {
     "name": "stdout",
     "output_type": "stream",
     "text": [
      "<re.Match object; span=(0, 2), match='We'>\n",
      "None\n",
      "<re.Match object; span=(0, 2), match='Wi'>\n",
      "None\n",
      "<re.Match object; span=(0, 2), match='Wo'>\n",
      "<re.Match object; span=(0, 2), match='Wa'>\n"
     ]
    }
   ],
   "source": [
    "from re import match\n",
    "\n",
    "strings=[\"Welcome to TutorialsTeacher\", \"weather forecast\",\"Winston Churchill\", \"W.G.Grace\",\"Wonders of India\", \"Water park\"]\n",
    "\n",
    "for string in strings:\n",
    "    obj = match(\"W[a-z]\",string)\n",
    "    print(obj)"
   ]
  },
  {
   "cell_type": "code",
   "execution_count": 41,
   "id": "6c07053f",
   "metadata": {},
   "outputs": [
    {
     "name": "stdout",
     "output_type": "stream",
     "text": [
      "['earn', 'earn']\n"
     ]
    }
   ],
   "source": [
    "from re import findall\n",
    "\n",
    "string = \"Try to earn while you learn\"\n",
    "\n",
    "obj = findall(\"earn\", string)\n",
    "print(obj)"
   ]
  },
  {
   "cell_type": "code",
   "execution_count": 42,
   "id": "c80a3654",
   "metadata": {},
   "outputs": [
    {
     "name": "stdout",
     "output_type": "stream",
     "text": [
      "(7, 11)\n",
      "(23, 27)\n"
     ]
    }
   ],
   "source": [
    "from re import finditer\n",
    "\n",
    "string = \"Try to earn while you learn\"\n",
    "it = finditer(\"earn\", string)\n",
    "for match in it:\n",
    "    print(match.span())"
   ]
  },
  {
   "cell_type": "code",
   "execution_count": 43,
   "id": "40b8823b",
   "metadata": {},
   "outputs": [
    {
     "name": "stdout",
     "output_type": "stream",
     "text": [
      "['Flat', 'is', 'better', 'than', 'nested.', 'Sparse', 'is', 'better', 'than', 'dense.']\n"
     ]
    }
   ],
   "source": [
    "from re import split\n",
    "\n",
    "string = \"Flat is better than nested. Sparse is better than dense.\"\n",
    "words = split(r' ', string)\n",
    "print(words)"
   ]
  },
  {
   "cell_type": "code",
   "execution_count": 44,
   "id": "01831df4",
   "metadata": {},
   "outputs": [
    {
     "name": "stdout",
     "output_type": "stream",
     "text": [
      "Flat None\n",
      "is <re.Match object; span=(0, 1), match='i'>\n",
      "better None\n",
      "than None\n",
      "nested. None\n",
      "Sparse None\n",
      "is <re.Match object; span=(0, 1), match='i'>\n",
      "better None\n",
      "than None\n",
      "dense. None\n"
     ]
    }
   ],
   "source": [
    "from re import *\n",
    "\n",
    "pattern = compile(r'[aeiou]')\n",
    "string = \"Flat is better than nested. Sparse is better than dense.\"\n",
    "words = split(r' ', string) \n",
    "for word in words:\n",
    "    print(word, pattern.match(word))"
   ]
  },
  {
   "cell_type": "code",
   "execution_count": 46,
   "id": "c52980dd",
   "metadata": {},
   "outputs": [
    {
     "name": "stdout",
     "output_type": "stream",
     "text": [
      "found word:cat\n"
     ]
    }
   ],
   "source": [
    "import re\n",
    "\n",
    "str = 'an example word:cat!!'\n",
    "match = re.search(r'word:\\w\\w\\w', str)\n",
    "# If-statement after search() tests if it succeeded\n",
    "if match:\n",
    "  print('found', match.group()) ## 'found word:cat'\n",
    "else:\n",
    "  print('did not find')"
   ]
  },
  {
   "cell_type": "code",
   "execution_count": 47,
   "id": "dcd8f71c",
   "metadata": {},
   "outputs": [
    {
     "name": "stdout",
     "output_type": "stream",
     "text": [
      "Jessa_knows_testing_and_machine_learning\n"
     ]
    }
   ],
   "source": [
    "import re\n",
    "\n",
    "target_str = \"Jessa knows testing and machine learning\"\n",
    "res_str = re.sub(r\"\\s\", \"_\", target_str)\n",
    "# String after replacement\n",
    "print(res_str)"
   ]
  },
  {
   "cell_type": "code",
   "execution_count": 48,
   "id": "4c63a4d1",
   "metadata": {},
   "outputs": [
    {
     "name": "stdout",
     "output_type": "stream",
     "text": [
      "JessaKnowsTestingAndMachineLearning.\n"
     ]
    }
   ],
   "source": [
    "import re\n",
    "\n",
    "target_str = \"   Jessa Knows Testing And Machine Learning \\t  .\"\n",
    "\n",
    "# \\s+ to remove all spaces\n",
    "# + indicate 1 or more occurrence of a space\n",
    "res_str = re.sub(r\"\\s+\", \"\", target_str)\n",
    "# String after replacement\n",
    "print(res_str)"
   ]
  },
  {
   "cell_type": "code",
   "execution_count": 49,
   "id": "097ccb91",
   "metadata": {},
   "outputs": [
    {
     "name": "stdout",
     "output_type": "stream",
     "text": [
      "Jessa Knows Testing And Machine Learning \t  .\n"
     ]
    }
   ],
   "source": [
    "import re\n",
    "\n",
    "target_str = \"   Jessa Knows Testing And Machine Learning \\t  .\"\n",
    "\n",
    "# ^\\s+ remove only leading spaces\n",
    "# caret (^) matches only at the start of the string\n",
    "res_str = re.sub(r\"^\\s+\", \"\", target_str)\n",
    "\n",
    "# String after replacement\n",
    "print(res_str)"
   ]
  },
  {
   "cell_type": "code",
   "execution_count": 50,
   "id": "1e42f683",
   "metadata": {},
   "outputs": [
    {
     "name": "stdout",
     "output_type": "stream",
     "text": [
      "   Jessa Knows Testing And Machine Learning\n"
     ]
    }
   ],
   "source": [
    "import re\n",
    "\n",
    "target_str = \"   Jessa Knows Testing And Machine Learning   \\t\\n\"\n",
    "# ^\\s+$ remove only trailing spaces\n",
    "# dollar ($) matches spaces only at the end of the string\n",
    "res_str = re.sub(r\"\\s+$\", \"\", target_str)\n",
    "\n",
    "# String after replacement\n",
    "print(res_str)"
   ]
  },
  {
   "cell_type": "code",
   "execution_count": 51,
   "id": "1754f319",
   "metadata": {},
   "outputs": [
    {
     "name": "stdout",
     "output_type": "stream",
     "text": [
      "Jessa Knows Testing And Machine Learning\n"
     ]
    }
   ],
   "source": [
    "import re\n",
    "\n",
    "target_str = \"   Jessa Knows Testing And Machine Learning   \\t\\n\"\n",
    "# ^\\s+ remove leading spaces\n",
    "# ^\\s+$ removes trailing spaces\n",
    "# | operator to combine both patterns\n",
    "res_str = re.sub(r\"^\\s+|\\s+$\", \"\", target_str)\n",
    "\n",
    "# String after replacement\n",
    "print(res_str)"
   ]
  },
  {
   "cell_type": "code",
   "execution_count": 52,
   "id": "cf0ce1a4",
   "metadata": {},
   "outputs": [
    {
     "name": "stdout",
     "output_type": "stream",
     "text": [
      "Jessa Knows Testing And Machine Learning \n"
     ]
    }
   ],
   "source": [
    "import re\n",
    "\n",
    "target_str = \"Jessa Knows Testing    And Machine     Learning \\t \\n\"\n",
    "\n",
    "# \\s+ to match all whitespaces\n",
    "# replace them using single space \" \"\n",
    "res_str = re.sub(r\"\\s+\", \" \", target_str)\n",
    "\n",
    "# string after replacement\n",
    "print(res_str)"
   ]
  },
  {
   "cell_type": "code",
   "execution_count": 53,
   "id": "93bba04c",
   "metadata": {},
   "outputs": [
    {
     "name": "stdout",
     "output_type": "stream",
     "text": [
      "Jessa-knows testing and machine learning\n",
      "Jessa-knows-testing-and machine learning\n"
     ]
    }
   ],
   "source": [
    "import re\n",
    "\n",
    "# original string\n",
    "target_str = \"Jessa knows testing and machine learning\"\n",
    "# replace only first occurrence\n",
    "res_str = re.sub(r\"\\s\", \"-\", target_str, count=1)\n",
    "# String after replacement\n",
    "print(res_str)\n",
    "# Output 'Jessa-knows testing and machine learning'\n",
    "\n",
    "# replace three occurrence\n",
    "res_str = re.sub(r\"\\s\", \"-\", target_str, count=3)\n",
    "print(res_str)"
   ]
  },
  {
   "cell_type": "code",
   "execution_count": 54,
   "id": "5b1682b5",
   "metadata": {},
   "outputs": [
    {
     "name": "stdout",
     "output_type": "stream",
     "text": [
      "emma loves pineapple dessert and coconut ice cream\n"
     ]
    }
   ],
   "source": [
    "import re\n",
    "\n",
    "# replacement function to convert uppercase letter to lowercase\n",
    "def convert_to_lower(match_obj):\n",
    "    if match_obj.group() is not None:\n",
    "        return match_obj.group().lower()\n",
    "\n",
    "# Original String\n",
    "str = \"Emma LOves PINEAPPLE DEssert and COCONUT Ice Cream\"\n",
    "\n",
    "# pass replacement function to re.sub()\n",
    "res_str = re.sub(r\"[A-Z]\", convert_to_lower, str)\n",
    "# String after replacement\n",
    "print(res_str)"
   ]
  },
  {
   "cell_type": "code",
   "execution_count": 55,
   "id": "f5899ec7",
   "metadata": {},
   "outputs": [
    {
     "name": "stdout",
     "output_type": "stream",
     "text": [
      "Emma,Kelly,Jessa,Joy,Scott,Joe,Jerry\n"
     ]
    }
   ],
   "source": [
    "import re\n",
    "\n",
    "# Original string\n",
    "student_names = \"Emma-Kelly Jessa Joy Scott-Joe Jerry\"\n",
    "\n",
    "# replace two pattern at the same time\n",
    "# use OR (|) to separate two pattern\n",
    "res = re.sub(r\"(\\s)|(-)\", \",\", student_names)\n",
    "print(res)"
   ]
  },
  {
   "cell_type": "code",
   "execution_count": 56,
   "id": "35fea5b1",
   "metadata": {},
   "outputs": [
    {
     "name": "stdout",
     "output_type": "stream",
     "text": [
      "emma LOVES pineapple DESSERT AND coconut ICE cream\n"
     ]
    }
   ],
   "source": [
    "import re\n",
    "\n",
    "# replacement function to convert uppercase word to lowercase\n",
    "# and lowercase word to uppercase\n",
    "def convert_case(match_obj):\n",
    "    if match_obj.group(1) is not None:\n",
    "        return match_obj.group(1).lower()\n",
    "    if match_obj.group(2) is not None:\n",
    "        return match_obj.group(2).upper()\n",
    "\n",
    "# Original String\n",
    "str = \"EMMA loves PINEAPPLE dessert and COCONUT ice CREAM\"\n",
    "\n",
    "# group 1 [A-Z]+ matches uppercase words\n",
    "# group 2 [a-z]+ matches lowercase words\n",
    "# pass replacement function 'convert_case' to re.sub()\n",
    "res_str = re.sub(r\"([A-Z]+)|([a-z]+)\", convert_case, str)\n",
    "\n",
    "# String after replacement\n",
    "print(res_str)"
   ]
  },
  {
   "cell_type": "code",
   "execution_count": 57,
   "id": "08bce7c3",
   "metadata": {},
   "outputs": [
    {
     "name": "stdout",
     "output_type": "stream",
     "text": [
      "('Emma loves MANGO, MANGO, MANGO ice cream', 3)\n"
     ]
    }
   ],
   "source": [
    "import re\n",
    "\n",
    "target_string = \"Emma loves PINEAPPLE, COCONUT, BANANA ice cream\"\n",
    "result = re.subn(r\"[A-Z]{2,}\", \"MANGO\", target_string)\n",
    "print(result)"
   ]
  },
  {
   "cell_type": "code",
   "execution_count": 58,
   "id": "fe92f98b",
   "metadata": {},
   "outputs": [
    {
     "name": "stdout",
     "output_type": "stream",
     "text": [
      "('Emma loves MANGO, MANGO, BANANA ice cream', 2)\n"
     ]
    }
   ],
   "source": [
    "import re\n",
    "\n",
    "target_string = \"Emma loves PINEAPPLE, COCONUT, BANANA ice cream\"\n",
    "result = re.subn(r\"[A-Z]{2,}\", \"MANGO\", target_string, count=2)\n",
    "print(result)"
   ]
  },
  {
   "cell_type": "code",
   "execution_count": null,
   "id": "b21b3701",
   "metadata": {},
   "outputs": [],
   "source": []
  }
 ],
 "metadata": {
  "kernelspec": {
   "display_name": "Python 3 (ipykernel)",
   "language": "python",
   "name": "python3"
  },
  "language_info": {
   "codemirror_mode": {
    "name": "ipython",
    "version": 3
   },
   "file_extension": ".py",
   "mimetype": "text/x-python",
   "name": "python",
   "nbconvert_exporter": "python",
   "pygments_lexer": "ipython3",
   "version": "3.9.12"
  }
 },
 "nbformat": 4,
 "nbformat_minor": 5
}
